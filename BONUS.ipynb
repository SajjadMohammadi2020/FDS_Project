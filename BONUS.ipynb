{
 "cells": [
  {
   "cell_type": "code",
   "execution_count": 33,
   "id": "bbc20d3a",
   "metadata": {},
   "outputs": [],
   "source": [
    "# لینک گیت هاب پروژه : \n",
    "# https://github.com/SajjadMohammadi2020/FDS_Project"
   ]
  },
  {
   "cell_type": "code",
   "execution_count": 1,
   "id": "3593524d",
   "metadata": {},
   "outputs": [],
   "source": [
    "# ایمپورت کردن کتابخانه ها \n",
    "import pandas as pd\n",
    "import numpy as np\n",
    "import matplotlib.pyplot as plt\n",
    "import sklearn"
   ]
  },
  {
   "cell_type": "code",
   "execution_count": 2,
   "id": "553c8033",
   "metadata": {},
   "outputs": [],
   "source": [
    "import scrapy"
   ]
  },
  {
   "cell_type": "code",
   "execution_count": 5,
   "id": "cd5939ef",
   "metadata": {},
   "outputs": [],
   "source": [
    "from selenium import webdriver"
   ]
  },
  {
   "cell_type": "code",
   "execution_count": 3,
   "id": "21e4e934",
   "metadata": {},
   "outputs": [],
   "source": [
    "import selenium\n",
    "import time\n",
    "from selenium.webdriver.common.by import By"
   ]
  },
  {
   "cell_type": "code",
   "execution_count": 22,
   "id": "f81e013b",
   "metadata": {},
   "outputs": [
    {
     "name": "stdout",
     "output_type": "stream",
     "text": [
      "25\n",
      "45\n",
      "85\n",
      "105\n"
     ]
    }
   ],
   "source": [
    "# خواندن صفحه مورد نظر و گرفتن المان های لپ تاپ\n",
    "from selenium.webdriver.chrome.service import Service\n",
    "path_chrome_driver = \"C://Users//Rayan//Desktop//chromedriver-win64//chromedriver.exe\"\n",
    "service = Service(executable_path= path_chrome_driver)\n",
    "options = webdriver.ChromeOptions()\n",
    "driver = webdriver.Chrome(service=service , options = options)\n",
    "driver.get(\"https://www.digikala.com/search/notebook-netbook-ultrabook/\")\n",
    "time.sleep(1)\n",
    "products = []\n",
    "max_products = 100\n",
    "while len(products) < max_products : \n",
    "    products = driver.find_elements(By.CLASS_NAME , \"product-list_ProductList__item__LiiNI\")\n",
    "    time.sleep(2)\n",
    "    driver.execute_script(\"window.scrollTo(0,document.body.scrollHeight)\")\n",
    "    time.sleep(2)\n",
    "    driver.execute_script(\"window.scrollTo(document.body.scrollHeight,0)\")\n",
    "    print(len(products))"
   ]
  },
  {
   "cell_type": "code",
   "execution_count": 23,
   "id": "de133081",
   "metadata": {},
   "outputs": [],
   "source": [
    "# تجزیه و تحلیل المان های لپ تاپ و به دست آوردن فیلد های دیتافریم\n",
    "products_new = driver.find_elements(By.CSS_SELECTOR , \".product-list_ProductList__item__LiiNI\")\n",
    "names_new = []\n",
    "scores_new = []\n",
    "prices_new = []\n",
    "trans_new = []\n",
    "links_new = []\n",
    "for product in products_new : \n",
    "    name = \"\"\n",
    "    score = -1\n",
    "    price = -1\n",
    "    trans = \"\"\n",
    "    link = \"\"\n",
    "    try : \n",
    "        name = product.find_element(By.CSS_SELECTOR , \"a > div > article > div:nth-child(2) > div:nth-child(2) > div:nth-child(2) > h3\").text\n",
    "    except : \n",
    "        name = \"None\"\n",
    "    try :\n",
    "        score = float(product.find_element(By.CSS_SELECTOR , \"a > div > article > div:nth-child(2) > div:nth-child(2) > div:nth-child(3) > div:nth-child(2) > p\").text)\n",
    "    except : \n",
    "        score = 0\n",
    "    try : \n",
    "        price = product.find_element(By.CSS_SELECTOR , \"a > div > article > div:nth-child(2) > div:nth-child(2) > div:nth-child(4) > div:nth-child(1) > div:last-child > span\").text\n",
    "        price = int(price.replace(\",\" , \"\"))\n",
    "    except : \n",
    "        price = 0\n",
    "    try : \n",
    "        trans = product.find_element(By.CSS_SELECTOR , \"a > div > article > div:nth-child(2) > div:nth-child(2) > div:nth-child(1) > div:nth-child(1) > span\").text\n",
    "    except : \n",
    "        trans = \"None\"\n",
    "    try : \n",
    "        link = product.find_element(By.CSS_SELECTOR , \"a\").get_attribute('href')\n",
    "    except : \n",
    "        link = \"None\"\n",
    "    names_new.append(name)\n",
    "    scores_new.append(score)\n",
    "    prices_new.append(price)\n",
    "    trans_new.append(trans)\n",
    "    links_new.append(link)"
   ]
  },
  {
   "cell_type": "code",
   "execution_count": 24,
   "id": "9efac2db",
   "metadata": {},
   "outputs": [
    {
     "data": {
      "text/html": [
       "<div>\n",
       "<style scoped>\n",
       "    .dataframe tbody tr th:only-of-type {\n",
       "        vertical-align: middle;\n",
       "    }\n",
       "\n",
       "    .dataframe tbody tr th {\n",
       "        vertical-align: top;\n",
       "    }\n",
       "\n",
       "    .dataframe thead th {\n",
       "        text-align: right;\n",
       "    }\n",
       "</style>\n",
       "<table border=\"1\" class=\"dataframe\">\n",
       "  <thead>\n",
       "    <tr style=\"text-align: right;\">\n",
       "      <th></th>\n",
       "      <th>name</th>\n",
       "      <th>score</th>\n",
       "      <th>transport</th>\n",
       "      <th>price</th>\n",
       "      <th>link</th>\n",
       "    </tr>\n",
       "  </thead>\n",
       "  <tbody>\n",
       "    <tr>\n",
       "      <th>0</th>\n",
       "      <td>لپ تاپ 15.6 اینچی لنوو مدل Ideapad 1-Celeron N...</td>\n",
       "      <td>4.3</td>\n",
       "      <td>ارسال رایگان</td>\n",
       "      <td>9139000</td>\n",
       "      <td>https://www.digikala.com/product/dkp-12537925/...</td>\n",
       "    </tr>\n",
       "    <tr>\n",
       "      <th>1</th>\n",
       "      <td>لپ تاپ 15.6 اینچی لنوو مدل IdeaPad Slim 3 15IR...</td>\n",
       "      <td>4.3</td>\n",
       "      <td>ارسال رایگان</td>\n",
       "      <td>16480000</td>\n",
       "      <td>https://www.digikala.com/product/dkp-12406821/...</td>\n",
       "    </tr>\n",
       "    <tr>\n",
       "      <th>2</th>\n",
       "      <td>لپ تاپ 15.6 اینچی ایسوس مدل X1500EP-EJ005W i5 ...</td>\n",
       "      <td>4.0</td>\n",
       "      <td>ارسال رایگان</td>\n",
       "      <td>31500000</td>\n",
       "      <td>https://www.digikala.com/product/dkp-11462509/...</td>\n",
       "    </tr>\n",
       "    <tr>\n",
       "      <th>3</th>\n",
       "      <td>لپ تاپ 15.6 اینچی ایسوس مدل Vivobook 15 R1502Z...</td>\n",
       "      <td>4.0</td>\n",
       "      <td>ارسال رایگان</td>\n",
       "      <td>25499000</td>\n",
       "      <td>https://www.digikala.com/product/dkp-11281670/...</td>\n",
       "    </tr>\n",
       "    <tr>\n",
       "      <th>4</th>\n",
       "      <td>لپ تاپ 15.6 اینچی لنوو مدل V15 G4 AMN-A 8GB 1S...</td>\n",
       "      <td>5.0</td>\n",
       "      <td>ارسال رایگان</td>\n",
       "      <td>14150000</td>\n",
       "      <td>https://www.digikala.com/product/dkp-11910604/...</td>\n",
       "    </tr>\n",
       "  </tbody>\n",
       "</table>\n",
       "</div>"
      ],
      "text/plain": [
       "                                                name  score     transport  \\\n",
       "0  لپ تاپ 15.6 اینچی لنوو مدل Ideapad 1-Celeron N...    4.3  ارسال رایگان   \n",
       "1  لپ تاپ 15.6 اینچی لنوو مدل IdeaPad Slim 3 15IR...    4.3  ارسال رایگان   \n",
       "2  لپ تاپ 15.6 اینچی ایسوس مدل X1500EP-EJ005W i5 ...    4.0  ارسال رایگان   \n",
       "3  لپ تاپ 15.6 اینچی ایسوس مدل Vivobook 15 R1502Z...    4.0  ارسال رایگان   \n",
       "4  لپ تاپ 15.6 اینچی لنوو مدل V15 G4 AMN-A 8GB 1S...    5.0  ارسال رایگان   \n",
       "\n",
       "      price                                               link  \n",
       "0   9139000  https://www.digikala.com/product/dkp-12537925/...  \n",
       "1  16480000  https://www.digikala.com/product/dkp-12406821/...  \n",
       "2  31500000  https://www.digikala.com/product/dkp-11462509/...  \n",
       "3  25499000  https://www.digikala.com/product/dkp-11281670/...  \n",
       "4  14150000  https://www.digikala.com/product/dkp-11910604/...  "
      ]
     },
     "execution_count": 24,
     "metadata": {},
     "output_type": "execute_result"
    }
   ],
   "source": [
    "# به دست آوردن دیتافریم از فیلد های خوانده شده از صفحه\n",
    "df = pd.DataFrame({'name' : names_new ,  'score' : scores_new , 'transport' : trans_new ,\n",
    "                   'price' : prices_new , 'link' : links_new})\n",
    "df.head()"
   ]
  },
  {
   "cell_type": "code",
   "execution_count": null,
   "id": "231e2f06",
   "metadata": {},
   "outputs": [],
   "source": [
    "# کلیک بر روی لپ تاپ های مشاهده شده\n",
    "for product in products_new[:5] : \n",
    "    product.click()\n",
    "    time.sleep(2)"
   ]
  }
 ],
 "metadata": {
  "kernelspec": {
   "display_name": "Python 3 (ipykernel)",
   "language": "python",
   "name": "python3"
  },
  "language_info": {
   "codemirror_mode": {
    "name": "ipython",
    "version": 3
   },
   "file_extension": ".py",
   "mimetype": "text/x-python",
   "name": "python",
   "nbconvert_exporter": "python",
   "pygments_lexer": "ipython3",
   "version": "3.10.7"
  }
 },
 "nbformat": 4,
 "nbformat_minor": 5
}
