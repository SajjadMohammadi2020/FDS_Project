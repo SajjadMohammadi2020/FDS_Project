{
 "cells": [
  {
   "cell_type": "code",
   "execution_count": 157,
   "id": "3593524d",
   "metadata": {},
   "outputs": [],
   "source": [
    "import pandas as pd\n",
    "import numpy as np\n",
    "import matplotlib.pyplot as plt\n",
    "import sklearn"
   ]
  },
  {
   "cell_type": "code",
   "execution_count": 1,
   "id": "553c8033",
   "metadata": {},
   "outputs": [],
   "source": [
    "import scrapy"
   ]
  },
  {
   "cell_type": "code",
   "execution_count": 3,
   "id": "cd5939ef",
   "metadata": {},
   "outputs": [],
   "source": [
    "from selenium import webdriver"
   ]
  },
  {
   "cell_type": "code",
   "execution_count": 25,
   "id": "21e4e934",
   "metadata": {},
   "outputs": [],
   "source": [
    "import selenium\n",
    "import time\n",
    "from selenium.webdriver.common.by import By"
   ]
  },
  {
   "cell_type": "code",
   "execution_count": 110,
   "id": "f81e013b",
   "metadata": {},
   "outputs": [],
   "source": [
    "from selenium.webdriver.chrome.service import Service\n",
    "path_chrome_driver = \"C://Users//Rayan//Desktop//chromedriver-win64//chromedriver.exe\"\n",
    "service = Service(executable_path= path_chrome_driver)\n",
    "options = webdriver.ChromeOptions()\n",
    "driver = webdriver.Chrome(service=service , options = options)\n",
    "driver.get(\"https://www.digikala.com/search/notebook-netbook-ultrabook/\")\n",
    "time.sleep(1)\n",
    "products = []\n",
    "max_products = 100\n",
    "while len(products) < max_products : \n",
    "    products = driver.find_elements(By.CLASS_NAME , \"product-list_ProductList__item__LiiNI\")\n",
    "    driver.execute_script(\"window.scrollTo(0,document.body.scrollHeight)\")\n",
    "    time.sleep(1)"
   ]
  },
  {
   "cell_type": "code",
   "execution_count": 154,
   "id": "de133081",
   "metadata": {},
   "outputs": [],
   "source": [
    "products_new = driver.find_elements(By.CSS_SELECTOR , \".product-list_ProductList__item__LiiNI\")\n",
    "names_new = []\n",
    "scores_new = []\n",
    "prices_new = []\n",
    "trans_new = []\n",
    "links_new = []\n",
    "for product in products_new : \n",
    "    name = \"\"\n",
    "    score = -1\n",
    "    price = -1\n",
    "    trans = \"\"\n",
    "    link = \"\"\n",
    "    try : \n",
    "        name = product.find_element(By.CSS_SELECTOR , \"a > div > article > div:nth-child(2) > div:nth-child(2) > div:nth-child(2) > h3\").text\n",
    "    except : \n",
    "        name = \"None\"\n",
    "    try :\n",
    "        score = float(product.find_element(By.CSS_SELECTOR , \"a > div > article > div:nth-child(2) > div:nth-child(2) > div:nth-child(3) > div:nth-child(2) > p\").text)\n",
    "    except : \n",
    "        score = 0\n",
    "    try : \n",
    "        price = product.find_element(By.CSS_SELECTOR , \"a > div > article > div:nth-child(2) > div:nth-child(2) > div:nth-child(4) > div:nth-child(1) > div:last-child > span\").text\n",
    "        price = int(price.replace(\",\" , \"\"))\n",
    "    except : \n",
    "        price = 0\n",
    "    try : \n",
    "        trans = product.find_element(By.CSS_SELECTOR , \"a > div > article > div:nth-child(2) > div:nth-child(2) > div:nth-child(1) > div:nth-child(1) > span\").text\n",
    "    except : \n",
    "        trans = \"None\"\n",
    "    try : \n",
    "        link = product.find_element(By.CSS_SELECTOR , \"a\").get_attribute('href')\n",
    "    except : \n",
    "        link = \"None\"\n",
    "    names_new.append(name)\n",
    "    scores_new.append(score)\n",
    "    prices_new.append(price)\n",
    "    trans_new.append(trans)\n",
    "    links_new.append(link)"
   ]
  },
  {
   "cell_type": "code",
   "execution_count": 155,
   "id": "9efac2db",
   "metadata": {},
   "outputs": [
    {
     "data": {
      "text/html": [
       "<div>\n",
       "<style scoped>\n",
       "    .dataframe tbody tr th:only-of-type {\n",
       "        vertical-align: middle;\n",
       "    }\n",
       "\n",
       "    .dataframe tbody tr th {\n",
       "        vertical-align: top;\n",
       "    }\n",
       "\n",
       "    .dataframe thead th {\n",
       "        text-align: right;\n",
       "    }\n",
       "</style>\n",
       "<table border=\"1\" class=\"dataframe\">\n",
       "  <thead>\n",
       "    <tr style=\"text-align: right;\">\n",
       "      <th></th>\n",
       "      <th>name</th>\n",
       "      <th>score</th>\n",
       "      <th>transport</th>\n",
       "      <th>price</th>\n",
       "      <th>link</th>\n",
       "    </tr>\n",
       "  </thead>\n",
       "  <tbody>\n",
       "    <tr>\n",
       "      <th>135</th>\n",
       "      <td>لپ تاپ 16 اینچی دل مدل G16 7620</td>\n",
       "      <td>0.0</td>\n",
       "      <td>ارسال رایگان</td>\n",
       "      <td>79900000</td>\n",
       "      <td>https://www.digikala.com/product/dkp-10873259/...</td>\n",
       "    </tr>\n",
       "    <tr>\n",
       "      <th>136</th>\n",
       "      <td>لپ تاپ 15.6 اینچی ایسوس مدل Vivobook R565EP-EJ...</td>\n",
       "      <td>5.0</td>\n",
       "      <td>ارسال رایگان</td>\n",
       "      <td>42490000</td>\n",
       "      <td>https://www.digikala.com/product/dkp-11206221/...</td>\n",
       "    </tr>\n",
       "    <tr>\n",
       "      <th>137</th>\n",
       "      <td>لپ تاپ 15.6 اینچی لنوو مدل V15 IGL-Celeron N40...</td>\n",
       "      <td>0.0</td>\n",
       "      <td>ارسال رایگان</td>\n",
       "      <td>13200000</td>\n",
       "      <td>https://www.digikala.com/product/dkp-12399359/...</td>\n",
       "    </tr>\n",
       "    <tr>\n",
       "      <th>138</th>\n",
       "      <td>لپ تاپ 15.6 اینچ دل مدل Vostro 3520-i7 16GB 51...</td>\n",
       "      <td>5.0</td>\n",
       "      <td>ارسال رایگان</td>\n",
       "      <td>39900000</td>\n",
       "      <td>https://www.digikala.com/product/dkp-11912382/...</td>\n",
       "    </tr>\n",
       "    <tr>\n",
       "      <th>139</th>\n",
       "      <td>لپ تاپ 16 اینچی ایسوس مدل Vivobook 16 R1605ZA-...</td>\n",
       "      <td>4.3</td>\n",
       "      <td>ارسال رایگان</td>\n",
       "      <td>35929350</td>\n",
       "      <td>https://www.digikala.com/product/dkp-12570301/...</td>\n",
       "    </tr>\n",
       "  </tbody>\n",
       "</table>\n",
       "</div>"
      ],
      "text/plain": [
       "                                                  name  score     transport  \\\n",
       "135                    لپ تاپ 16 اینچی دل مدل G16 7620    0.0  ارسال رایگان   \n",
       "136  لپ تاپ 15.6 اینچی ایسوس مدل Vivobook R565EP-EJ...    5.0  ارسال رایگان   \n",
       "137  لپ تاپ 15.6 اینچی لنوو مدل V15 IGL-Celeron N40...    0.0  ارسال رایگان   \n",
       "138  لپ تاپ 15.6 اینچ دل مدل Vostro 3520-i7 16GB 51...    5.0  ارسال رایگان   \n",
       "139  لپ تاپ 16 اینچی ایسوس مدل Vivobook 16 R1605ZA-...    4.3  ارسال رایگان   \n",
       "\n",
       "        price                                               link  \n",
       "135  79900000  https://www.digikala.com/product/dkp-10873259/...  \n",
       "136  42490000  https://www.digikala.com/product/dkp-11206221/...  \n",
       "137  13200000  https://www.digikala.com/product/dkp-12399359/...  \n",
       "138  39900000  https://www.digikala.com/product/dkp-11912382/...  \n",
       "139  35929350  https://www.digikala.com/product/dkp-12570301/...  "
      ]
     },
     "execution_count": 155,
     "metadata": {},
     "output_type": "execute_result"
    }
   ],
   "source": [
    "df = pd.DataFrame({'name' : names_new ,  'score' : scores_new , 'transport' : trans_new ,\n",
    "                   'price' : prices_new , 'link' : links_new})\n",
    "df.tail()"
   ]
  },
  {
   "cell_type": "code",
   "execution_count": 156,
   "id": "231e2f06",
   "metadata": {},
   "outputs": [
    {
     "ename": "AttributeError",
     "evalue": "'str' object has no attribute 'click'",
     "output_type": "error",
     "traceback": [
      "\u001b[1;31m---------------------------------------------------------------------------\u001b[0m",
      "\u001b[1;31mAttributeError\u001b[0m                            Traceback (most recent call last)",
      "Cell \u001b[1;32mIn [156], line 2\u001b[0m\n\u001b[0;32m      1\u001b[0m \u001b[38;5;28;01mfor\u001b[39;00m link \u001b[38;5;129;01min\u001b[39;00m links_new : \n\u001b[1;32m----> 2\u001b[0m     \u001b[43mlink\u001b[49m\u001b[38;5;241;43m.\u001b[39;49m\u001b[43mclick\u001b[49m()\n",
      "\u001b[1;31mAttributeError\u001b[0m: 'str' object has no attribute 'click'"
     ]
    }
   ],
   "source": [
    "for link in links_new : \n",
    "    link.click()"
   ]
  }
 ],
 "metadata": {
  "kernelspec": {
   "display_name": "Python 3 (ipykernel)",
   "language": "python",
   "name": "python3"
  },
  "language_info": {
   "codemirror_mode": {
    "name": "ipython",
    "version": 3
   },
   "file_extension": ".py",
   "mimetype": "text/x-python",
   "name": "python",
   "nbconvert_exporter": "python",
   "pygments_lexer": "ipython3",
   "version": "3.10.7"
  }
 },
 "nbformat": 4,
 "nbformat_minor": 5
}
